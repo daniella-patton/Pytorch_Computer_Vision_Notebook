{
 "cells": [
  {
   "cell_type": "code",
   "execution_count": 1,
   "metadata": {},
   "outputs": [],
   "source": [
    "import torch\n",
    "import numpy as np"
   ]
  },
  {
   "cell_type": "code",
   "execution_count": 2,
   "metadata": {},
   "outputs": [
    {
     "name": "stdout",
     "output_type": "stream",
     "text": [
      "tensor([[1., 1.],\n",
      "        [1., 1.]])\n",
      "torch.float32\n"
     ]
    }
   ],
   "source": [
    "# Define a tensor with default values\n",
    "x = torch.ones(2,2)\n",
    "print(x)\n",
    "print(x.dtype)\n",
    "\n",
    "# Define a tensor with specific data types\n",
    "x =  torch.ones(2,2, dtype = torch.int8)\n",
    "print(x)\n",
    "print(x.dtype)"
   ]
  },
  {
   "cell_type": "code",
   "execution_count": 5,
   "metadata": {},
   "outputs": [
    {
     "name": "stdout",
     "output_type": "stream",
     "text": [
      "torch.uint8\n",
      "torch.float32\n"
     ]
    }
   ],
   "source": [
    "# Changing a tensor's data type\n",
    "x = torch.ones(1, dtype = torch.uint8)\n",
    "print(x.dtype)\n",
    "\n",
    "x= x.type(torch.float)\n",
    "print(x.dtype)"
   ]
  },
  {
   "cell_type": "code",
   "execution_count": 8,
   "metadata": {},
   "outputs": [
    {
     "name": "stdout",
     "output_type": "stream",
     "text": [
      "tensor([[0.7907, 0.3502],\n",
      "        [0.8019, 0.4064]])\n",
      "torch.float32\n",
      "[[0.79068    0.350164  ]\n",
      " [0.80193454 0.4064194 ]]\n",
      "float32\n"
     ]
    }
   ],
   "source": [
    "# Converting tensors into numpy arrays\n",
    "x = torch.rand(2,2)\n",
    "print(x)\n",
    "print(x.dtype)\n",
    "\n",
    "y = x.numpy()\n",
    "print(y)\n",
    "print(y.dtype)"
   ]
  },
  {
   "cell_type": "code",
   "execution_count": 11,
   "metadata": {},
   "outputs": [
    {
     "name": "stdout",
     "output_type": "stream",
     "text": [
      "[[0. 0.]\n",
      " [0. 0.]]\n",
      "float32\n",
      "tensor([[0., 0.],\n",
      "        [0., 0.]])\n",
      "torch.float32\n"
     ]
    }
   ],
   "source": [
    "# Converting Numpy arrays into tensors\n",
    "# define a numpy array\n",
    "x = np.zeros((2,2), dtype = np.float32)\n",
    "print(x)\n",
    "print(x.dtype)\n",
    "\n",
    "# convert a numpy array to pytorch tensor\n",
    "y = torch.from_numpy(x)\n",
    "print(y)\n",
    "print(y.dtype)"
   ]
  },
  {
   "cell_type": "code",
   "execution_count": 16,
   "metadata": {},
   "outputs": [
    {
     "name": "stdout",
     "output_type": "stream",
     "text": [
      "tensor([1.5000, 2.0000])\n",
      "cpu\n",
      "tensor([1.5000, 2.0000], device='cuda:0')\n",
      "cuda:0\n",
      "tensor([1.5000, 2.0000])\n",
      "cpu\n",
      "tensor([[1., 1.],\n",
      "        [1., 1.]], device='cuda:0')\n"
     ]
    }
   ],
   "source": [
    "# Moving Tensors Between Devices\n",
    "# define a cuda/gpu device\n",
    "x = torch.tensor([1.5,2])\n",
    "print(x)\n",
    "print(x.device)\n",
    "\n",
    "# Defune a cuda device\n",
    "if torch.cuda.is_available():\n",
    "    device = torch.device(\"cuda:0\")\n",
    "\n",
    "# Move tensor onto cuda\n",
    "x = x.to(device)\n",
    "print(x)\n",
    "print(x.device)\n",
    "\n",
    "# define a cpu device\n",
    "device = torch.device(\"cpu\")\n",
    "x = x.to(device)\n",
    "print(x)\n",
    "print(x.device)\n",
    "\n",
    "# define a tensor on device\n",
    "device = torch.device(\"cuda:0\")\n",
    "x = torch.ones(2,2, device = device)\n",
    "print(x)"
   ]
  }
 ],
 "metadata": {
  "kernelspec": {
   "display_name": "Python 3",
   "language": "python",
   "name": "python3"
  },
  "language_info": {
   "codemirror_mode": {
    "name": "ipython",
    "version": 3
   },
   "file_extension": ".py",
   "mimetype": "text/x-python",
   "name": "python",
   "nbconvert_exporter": "python",
   "pygments_lexer": "ipython3",
   "version": "3.8.5"
  }
 },
 "nbformat": 4,
 "nbformat_minor": 4
}
